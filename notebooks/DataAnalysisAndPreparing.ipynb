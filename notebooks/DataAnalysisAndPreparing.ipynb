{
 "cells": [
  {
   "attachments": {},
   "cell_type": "markdown",
   "metadata": {},
   "source": [
    "## Imports"
   ]
  },
  {
   "cell_type": "code",
   "execution_count": 1,
   "metadata": {},
   "outputs": [],
   "source": [
    "import pandas as pd\n",
    "import numpy as np \n",
    "import matplotlib.pyplot as plt \n",
    "from pathlib import Path \n",
    "from copy import deepcopy\n",
    "from sklearn.model_selection import train_test_split\n",
    "from typing import Tuple\n",
    "from copy import deepcopy"
   ]
  },
  {
   "attachments": {},
   "cell_type": "markdown",
   "metadata": {},
   "source": [
    "## Draft"
   ]
  },
  {
   "cell_type": "code",
   "execution_count": 2,
   "metadata": {},
   "outputs": [],
   "source": [
    "root_data = Path('../dataset/')\n",
    "markers_path = root_data / 'data_markers.csv'\n",
    "clients_path = root_data / 'client_base.csv'\n",
    "\n",
    "item_id_column_name = 'ID_SKU'\n",
    "user_id_column_name = 'Client'"
   ]
  },
  {
   "cell_type": "code",
   "execution_count": 3,
   "metadata": {},
   "outputs": [],
   "source": [
    "def display_count_in_column(\n",
    "    df: pd.DataFrame, \n",
    "    column: str, \n",
    "    column_iter: str = 'item_counter'\n",
    ") -> None:\n",
    "    df_count = markers_df[[column, column_iter]].groupby(column).sum()\n",
    "    display(df_count)"
   ]
  },
  {
   "cell_type": "code",
   "execution_count": 4,
   "metadata": {},
   "outputs": [
    {
     "name": "stdout",
     "output_type": "stream",
     "text": [
      "len(markers_df) = 1247887\n"
     ]
    }
   ],
   "source": [
    "markers_df = pd.read_csv(markers_path)\n",
    "markers_df['item_counter'] = 1\n",
    "print(f'len(markers_df) = {len(markers_df)}')"
   ]
  },
  {
   "cell_type": "code",
   "execution_count": 5,
   "metadata": {},
   "outputs": [
    {
     "data": {
      "text/plain": [
       "Unnamed: 0                   int64\n",
       "Date                        object\n",
       "DateDelivery                object\n",
       "OrderNumberOnTheWebsite     object\n",
       "NewStatus                   object\n",
       "SumOrderOnTheWebsite         int64\n",
       "SumDocument                float64\n",
       "MethodDelivery              object\n",
       "PaymentForm                 object\n",
       "Region                      object\n",
       "Group2                      object\n",
       "Group3                      object\n",
       "Group4                      object\n",
       "Type                        object\n",
       "Nomenclature                object\n",
       "TypeOfgoods                 object\n",
       "Cancelled                   object\n",
       "ReasonForCancellation       object\n",
       "Quantity                     int64\n",
       "Price                      float64\n",
       "SumLine                    float64\n",
       "PurchasePrice              float64\n",
       "MonthOfTheOrderDate          int64\n",
       "YearOfOrderDate              int64\n",
       "PVZ_Code                    object\n",
       "Status                      object\n",
       "Geo                         object\n",
       "Margin                     float64\n",
       "SumOfServices                int64\n",
       "SumOfDelivery                int64\n",
       "NumberLine                   int64\n",
       "QuantitySoldToCustomer       int64\n",
       "OrderDateOnTheWebsite       object\n",
       "Telephone_new               object\n",
       "E-mail_new                  object\n",
       "Client                      object\n",
       "ID_SKU                      object\n",
       "CityShop                    object\n",
       "ShopOrder                   object\n",
       "City                        object\n",
       "Region_max                  object\n",
       "item_counter                 int64\n",
       "dtype: object"
      ]
     },
     "execution_count": 5,
     "metadata": {},
     "output_type": "execute_result"
    }
   ],
   "source": [
    "markers_df.dtypes"
   ]
  },
  {
   "cell_type": "code",
   "execution_count": 6,
   "metadata": {},
   "outputs": [
    {
     "data": {
      "text/html": [
       "<div>\n",
       "<style scoped>\n",
       "    .dataframe tbody tr th:only-of-type {\n",
       "        vertical-align: middle;\n",
       "    }\n",
       "\n",
       "    .dataframe tbody tr th {\n",
       "        vertical-align: top;\n",
       "    }\n",
       "\n",
       "    .dataframe thead th {\n",
       "        text-align: right;\n",
       "    }\n",
       "</style>\n",
       "<table border=\"1\" class=\"dataframe\">\n",
       "  <thead>\n",
       "    <tr style=\"text-align: right;\">\n",
       "      <th></th>\n",
       "      <th>item_counter</th>\n",
       "    </tr>\n",
       "    <tr>\n",
       "      <th>Group2</th>\n",
       "      <th></th>\n",
       "    </tr>\n",
       "  </thead>\n",
       "  <tbody>\n",
       "    <tr>\n",
       "      <th>ДЕТСКОЕ ПИТАНИЕ</th>\n",
       "      <td>256687</td>\n",
       "    </tr>\n",
       "    <tr>\n",
       "      <th>ЖЕНСКИЕ ШТУЧКИ</th>\n",
       "      <td>2415</td>\n",
       "    </tr>\n",
       "    <tr>\n",
       "      <th>ИГРУШКИ</th>\n",
       "      <td>242731</td>\n",
       "    </tr>\n",
       "    <tr>\n",
       "      <th>КАНЦТОВАРЫ, КНИГИ, ДИСКИ</th>\n",
       "      <td>49402</td>\n",
       "    </tr>\n",
       "    <tr>\n",
       "      <th>КОСМЕТИКА/ГИГИЕНА</th>\n",
       "      <td>109664</td>\n",
       "    </tr>\n",
       "    <tr>\n",
       "      <th>КРУПНОГАБАРИТНЫЙ ТОВАР</th>\n",
       "      <td>83084</td>\n",
       "    </tr>\n",
       "    <tr>\n",
       "      <th>ОБУВЬ</th>\n",
       "      <td>58844</td>\n",
       "    </tr>\n",
       "    <tr>\n",
       "      <th>ПОДГУЗНИКИ</th>\n",
       "      <td>120325</td>\n",
       "    </tr>\n",
       "    <tr>\n",
       "      <th>СОПУТСТВУЮЩИЕ ТОВАРЫ</th>\n",
       "      <td>2931</td>\n",
       "    </tr>\n",
       "    <tr>\n",
       "      <th>ТЕКСТИЛЬ, ТРИКОТАЖ</th>\n",
       "      <td>237656</td>\n",
       "    </tr>\n",
       "    <tr>\n",
       "      <th>ТЕХНИКА И ТОВАРЫ ДЛЯ ДОМА</th>\n",
       "      <td>307</td>\n",
       "    </tr>\n",
       "    <tr>\n",
       "      <th>ТОВАРЫ ДЛЯ ЖИВОТНЫХ</th>\n",
       "      <td>14162</td>\n",
       "    </tr>\n",
       "    <tr>\n",
       "      <th>ТОВАРЫ ДЛЯ КОРМЛЕНИЯ</th>\n",
       "      <td>69679</td>\n",
       "    </tr>\n",
       "  </tbody>\n",
       "</table>\n",
       "</div>"
      ],
      "text/plain": [
       "                           item_counter\n",
       "Group2                                 \n",
       "ДЕТСКОЕ ПИТАНИЕ                  256687\n",
       "ЖЕНСКИЕ ШТУЧКИ                     2415\n",
       "ИГРУШКИ                          242731\n",
       "КАНЦТОВАРЫ, КНИГИ, ДИСКИ          49402\n",
       "КОСМЕТИКА/ГИГИЕНА                109664\n",
       "КРУПНОГАБАРИТНЫЙ ТОВАР            83084\n",
       "ОБУВЬ                             58844\n",
       "ПОДГУЗНИКИ                       120325\n",
       "СОПУТСТВУЮЩИЕ ТОВАРЫ               2931\n",
       "ТЕКСТИЛЬ, ТРИКОТАЖ               237656\n",
       "ТЕХНИКА И ТОВАРЫ ДЛЯ ДОМА           307\n",
       "ТОВАРЫ ДЛЯ ЖИВОТНЫХ               14162\n",
       "ТОВАРЫ ДЛЯ КОРМЛЕНИЯ              69679"
      ]
     },
     "metadata": {},
     "output_type": "display_data"
    }
   ],
   "source": [
    "display_count_in_column(markers_df, 'Group2')"
   ]
  },
  {
   "cell_type": "code",
   "execution_count": 7,
   "metadata": {},
   "outputs": [
    {
     "data": {
      "text/html": [
       "<div>\n",
       "<style scoped>\n",
       "    .dataframe tbody tr th:only-of-type {\n",
       "        vertical-align: middle;\n",
       "    }\n",
       "\n",
       "    .dataframe tbody tr th {\n",
       "        vertical-align: top;\n",
       "    }\n",
       "\n",
       "    .dataframe thead th {\n",
       "        text-align: right;\n",
       "    }\n",
       "</style>\n",
       "<table border=\"1\" class=\"dataframe\">\n",
       "  <thead>\n",
       "    <tr style=\"text-align: right;\">\n",
       "      <th></th>\n",
       "      <th>item_counter</th>\n",
       "    </tr>\n",
       "    <tr>\n",
       "      <th>Group3</th>\n",
       "      <th></th>\n",
       "    </tr>\n",
       "  </thead>\n",
       "  <tbody>\n",
       "    <tr>\n",
       "      <th>АВТОКРЕСЛА</th>\n",
       "      <td>7811</td>\n",
       "    </tr>\n",
       "    <tr>\n",
       "      <th>АКСЕССУАРЫ</th>\n",
       "      <td>24116</td>\n",
       "    </tr>\n",
       "    <tr>\n",
       "      <th>АКСЕССУАРЫ ДЛЯ ВОЛОС</th>\n",
       "      <td>595</td>\n",
       "    </tr>\n",
       "    <tr>\n",
       "      <th>АКСЕССУАРЫ ДЛЯ ДЕВОЧЕК</th>\n",
       "      <td>1847</td>\n",
       "    </tr>\n",
       "    <tr>\n",
       "      <th>АКСЕССУАРЫ МАКИЯЖ, МАНИКЮР</th>\n",
       "      <td>74</td>\n",
       "    </tr>\n",
       "    <tr>\n",
       "      <th>...</th>\n",
       "      <td>...</td>\n",
       "    </tr>\n",
       "    <tr>\n",
       "      <th>ЧАСЫ/ОЧКИ</th>\n",
       "      <td>53</td>\n",
       "    </tr>\n",
       "    <tr>\n",
       "      <th>ШАПКИ, ШАРФЫ</th>\n",
       "      <td>35</td>\n",
       "    </tr>\n",
       "    <tr>\n",
       "      <th>ЭЛЕКТРОМОБИЛИ/МАШИНЫ ПЕДАЛЬНЫЕ</th>\n",
       "      <td>1050</td>\n",
       "    </tr>\n",
       "    <tr>\n",
       "      <th>ЭЛЕКТРОПРИБОРЫ</th>\n",
       "      <td>2362</td>\n",
       "    </tr>\n",
       "    <tr>\n",
       "      <th>ЭЛЕМЕНТЫ ПИТАНИЯ</th>\n",
       "      <td>566</td>\n",
       "    </tr>\n",
       "  </tbody>\n",
       "</table>\n",
       "<p>96 rows × 1 columns</p>\n",
       "</div>"
      ],
      "text/plain": [
       "                                item_counter\n",
       "Group3                                      \n",
       "АВТОКРЕСЛА                              7811\n",
       "АКСЕССУАРЫ                             24116\n",
       "АКСЕССУАРЫ ДЛЯ ВОЛОС                     595\n",
       "АКСЕССУАРЫ ДЛЯ ДЕВОЧЕК                  1847\n",
       "АКСЕССУАРЫ МАКИЯЖ, МАНИКЮР                74\n",
       "...                                      ...\n",
       "ЧАСЫ/ОЧКИ                                 53\n",
       "ШАПКИ, ШАРФЫ                              35\n",
       "ЭЛЕКТРОМОБИЛИ/МАШИНЫ ПЕДАЛЬНЫЕ          1050\n",
       "ЭЛЕКТРОПРИБОРЫ                          2362\n",
       "ЭЛЕМЕНТЫ ПИТАНИЯ                         566\n",
       "\n",
       "[96 rows x 1 columns]"
      ]
     },
     "metadata": {},
     "output_type": "display_data"
    }
   ],
   "source": [
    "display_count_in_column(markers_df, 'Group3')"
   ]
  },
  {
   "cell_type": "code",
   "execution_count": 8,
   "metadata": {},
   "outputs": [
    {
     "data": {
      "text/html": [
       "<div>\n",
       "<style scoped>\n",
       "    .dataframe tbody tr th:only-of-type {\n",
       "        vertical-align: middle;\n",
       "    }\n",
       "\n",
       "    .dataframe tbody tr th {\n",
       "        vertical-align: top;\n",
       "    }\n",
       "\n",
       "    .dataframe thead th {\n",
       "        text-align: right;\n",
       "    }\n",
       "</style>\n",
       "<table border=\"1\" class=\"dataframe\">\n",
       "  <thead>\n",
       "    <tr style=\"text-align: right;\">\n",
       "      <th></th>\n",
       "      <th>item_counter</th>\n",
       "    </tr>\n",
       "    <tr>\n",
       "      <th>Group4</th>\n",
       "      <th></th>\n",
       "    </tr>\n",
       "  </thead>\n",
       "  <tbody>\n",
       "    <tr>\n",
       "      <th>0-13 кг (люльки-переноски)</th>\n",
       "      <td>1144</td>\n",
       "    </tr>\n",
       "    <tr>\n",
       "      <th>0-18 кг (автокресла)</th>\n",
       "      <td>1459</td>\n",
       "    </tr>\n",
       "    <tr>\n",
       "      <th>15-36 кг (автокресла, бустеры)</th>\n",
       "      <td>1704</td>\n",
       "    </tr>\n",
       "    <tr>\n",
       "      <th>9-36 кг (автокресла)</th>\n",
       "      <td>2941</td>\n",
       "    </tr>\n",
       "    <tr>\n",
       "      <th>АКСЕССУАРЫ ДЛЯ КОЛЯСОК</th>\n",
       "      <td>3840</td>\n",
       "    </tr>\n",
       "    <tr>\n",
       "      <th>...</th>\n",
       "      <td>...</td>\n",
       "    </tr>\n",
       "    <tr>\n",
       "      <th>электронные игры</th>\n",
       "      <td>1566</td>\n",
       "    </tr>\n",
       "    <tr>\n",
       "      <th>энциклопедии</th>\n",
       "      <td>512</td>\n",
       "    </tr>\n",
       "    <tr>\n",
       "      <th>юбки</th>\n",
       "      <td>1896</td>\n",
       "    </tr>\n",
       "    <tr>\n",
       "      <th>ящики РОССИЯ</th>\n",
       "      <td>241</td>\n",
       "    </tr>\n",
       "    <tr>\n",
       "      <th>ящики прочие</th>\n",
       "      <td>210</td>\n",
       "    </tr>\n",
       "  </tbody>\n",
       "</table>\n",
       "<p>432 rows × 1 columns</p>\n",
       "</div>"
      ],
      "text/plain": [
       "                                item_counter\n",
       "Group4                                      \n",
       "0-13 кг (люльки-переноски)              1144\n",
       "0-18 кг (автокресла)                    1459\n",
       "15-36 кг (автокресла, бустеры)          1704\n",
       "9-36 кг (автокресла)                    2941\n",
       "АКСЕССУАРЫ ДЛЯ КОЛЯСОК                  3840\n",
       "...                                      ...\n",
       "электронные игры                        1566\n",
       "энциклопедии                             512\n",
       "юбки                                    1896\n",
       "ящики РОССИЯ                             241\n",
       "ящики прочие                             210\n",
       "\n",
       "[432 rows x 1 columns]"
      ]
     },
     "metadata": {},
     "output_type": "display_data"
    }
   ],
   "source": [
    "display_count_in_column(markers_df, 'Group4')"
   ]
  },
  {
   "cell_type": "code",
   "execution_count": 9,
   "metadata": {},
   "outputs": [
    {
     "data": {
      "text/html": [
       "<div>\n",
       "<style scoped>\n",
       "    .dataframe tbody tr th:only-of-type {\n",
       "        vertical-align: middle;\n",
       "    }\n",
       "\n",
       "    .dataframe tbody tr th {\n",
       "        vertical-align: top;\n",
       "    }\n",
       "\n",
       "    .dataframe thead th {\n",
       "        text-align: right;\n",
       "    }\n",
       "</style>\n",
       "<table border=\"1\" class=\"dataframe\">\n",
       "  <thead>\n",
       "    <tr style=\"text-align: right;\">\n",
       "      <th></th>\n",
       "      <th>item_counter</th>\n",
       "    </tr>\n",
       "    <tr>\n",
       "      <th>Type</th>\n",
       "      <th></th>\n",
       "    </tr>\n",
       "  </thead>\n",
       "  <tbody>\n",
       "    <tr>\n",
       "      <th>ИГРУШКИ</th>\n",
       "      <td>292133</td>\n",
       "    </tr>\n",
       "    <tr>\n",
       "      <th>ИНОЕ</th>\n",
       "      <td>16884</td>\n",
       "    </tr>\n",
       "    <tr>\n",
       "      <th>КГТ</th>\n",
       "      <td>83084</td>\n",
       "    </tr>\n",
       "    <tr>\n",
       "      <th>ОДЕЖДА</th>\n",
       "      <td>296500</td>\n",
       "    </tr>\n",
       "    <tr>\n",
       "      <th>ППКП</th>\n",
       "      <td>559286</td>\n",
       "    </tr>\n",
       "  </tbody>\n",
       "</table>\n",
       "</div>"
      ],
      "text/plain": [
       "         item_counter\n",
       "Type                 \n",
       "ИГРУШКИ        292133\n",
       "ИНОЕ            16884\n",
       "КГТ             83084\n",
       "ОДЕЖДА         296500\n",
       "ППКП           559286"
      ]
     },
     "metadata": {},
     "output_type": "display_data"
    }
   ],
   "source": [
    "display_count_in_column(markers_df, 'Type')"
   ]
  },
  {
   "cell_type": "code",
   "execution_count": 10,
   "metadata": {},
   "outputs": [
    {
     "data": {
      "text/html": [
       "<div>\n",
       "<style scoped>\n",
       "    .dataframe tbody tr th:only-of-type {\n",
       "        vertical-align: middle;\n",
       "    }\n",
       "\n",
       "    .dataframe tbody tr th {\n",
       "        vertical-align: top;\n",
       "    }\n",
       "\n",
       "    .dataframe thead th {\n",
       "        text-align: right;\n",
       "    }\n",
       "</style>\n",
       "<table border=\"1\" class=\"dataframe\">\n",
       "  <thead>\n",
       "    <tr style=\"text-align: right;\">\n",
       "      <th></th>\n",
       "      <th>item_counter</th>\n",
       "    </tr>\n",
       "    <tr>\n",
       "      <th>TypeOfgoods</th>\n",
       "      <th></th>\n",
       "    </tr>\n",
       "  </thead>\n",
       "  <tbody>\n",
       "    <tr>\n",
       "      <th>КГТ</th>\n",
       "      <td>82959</td>\n",
       "    </tr>\n",
       "    <tr>\n",
       "      <th>МГТ</th>\n",
       "      <td>1164924</td>\n",
       "    </tr>\n",
       "  </tbody>\n",
       "</table>\n",
       "</div>"
      ],
      "text/plain": [
       "             item_counter\n",
       "TypeOfgoods              \n",
       "КГТ                 82959\n",
       "МГТ               1164924"
      ]
     },
     "metadata": {},
     "output_type": "display_data"
    }
   ],
   "source": [
    "display_count_in_column(markers_df, 'TypeOfgoods')"
   ]
  },
  {
   "cell_type": "code",
   "execution_count": 72,
   "metadata": {},
   "outputs": [],
   "source": [
    "items_order_count = markers_df[[item_id_column_name, 'item_counter']].groupby([item_id_column_name]).sum()"
   ]
  },
  {
   "cell_type": "code",
   "execution_count": 73,
   "metadata": {},
   "outputs": [
    {
     "data": {
      "image/png": "[encoded data removed]",
      "text/plain": [
       "<Figure size 640x480 with 1 Axes>"
      ]
     },
     "metadata": {},
     "output_type": "display_data"
    }
   ],
   "source": [
    "# items_order_count.item_counter.min()\n",
    "ax = items_order_count.plot.hist(column=[\"item_counter\"], bins=100, log=True, legend=False)\n",
    "plt.show()"
   ]
  },
  {
   "cell_type": "code",
   "execution_count": 64,
   "metadata": {},
   "outputs": [
    {
     "name": "stdout",
     "output_type": "stream",
     "text": [
      "8575\n"
     ]
    }
   ],
   "source": [
    "users_order_count = markers_df[[user_id_column_name, 'item_counter']].groupby([user_id_column_name]).sum()\n",
    "print(len(users_order_count))"
   ]
  },
  {
   "cell_type": "code",
   "execution_count": 9,
   "metadata": {},
   "outputs": [
    {
     "name": "stdout",
     "output_type": "stream",
     "text": [
      "len(clients_df) = 177343\n"
     ]
    }
   ],
   "source": [
    "clients_df = pd.read_csv(clients_path)\n",
    "print(f'len(clients_df) = {len(clients_df)}')"
   ]
  },
  {
   "cell_type": "code",
   "execution_count": 10,
   "metadata": {},
   "outputs": [
    {
     "data": {
      "text/plain": [
       "['Unnamed: 0',\n",
       " 'client_id',\n",
       " 'DistinctCountOrders',\n",
       " 'AverageNumItemsInOrder',\n",
       " 'RevenueClient',\n",
       " 'cnt_purchased_orders',\n",
       " 'AvgOrderSumPurchased',\n",
       " 'AvgNumItemsOrderPurchased',\n",
       " 'RevenueClientPurchased',\n",
       " 'PurchasedItems',\n",
       " 'AvgMarginPurchased',\n",
       " 'SharePurchasedOrders',\n",
       " 'ДЕТСКОЕ ПИТАНИЕ',\n",
       " 'ЖЕНСКИЕ ШТУЧКИ',\n",
       " 'ИГРУШКИ',\n",
       " 'КАНЦТОВАРЫ, КНИГИ, ДИСКИ',\n",
       " 'КОСМЕТИКА/ГИГИЕНА',\n",
       " 'КРУПНОГАБАРИТНЫЙ ТОВАР',\n",
       " 'ОБУВЬ',\n",
       " 'ПОДГУЗНИКИ',\n",
       " 'СОПУТСТВУЮЩИЕ ТОВАРЫ',\n",
       " 'ТЕКСТИЛЬ, ТРИКОТАЖ',\n",
       " 'ТЕХНИКА И ТОВАРЫ ДЛЯ ДОМА',\n",
       " 'ТОВАРЫ ДЛЯ ЖИВОТНЫХ',\n",
       " 'ТОВАРЫ ДЛЯ КОРМЛЕНИЯ',\n",
       " 'ИГРУШКИ.1',\n",
       " 'ИНОЕ',\n",
       " 'КГТ',\n",
       " 'ОДЕЖДА',\n",
       " 'ППКП',\n",
       " 'CENTRAL',\n",
       " 'FAR EAST',\n",
       " 'NORTH',\n",
       " 'PRIVOLZIE',\n",
       " 'SIBERIA',\n",
       " 'SOUTHERN',\n",
       " 'URAL',\n",
       " 'Cluster']"
      ]
     },
     "execution_count": 10,
     "metadata": {},
     "output_type": "execute_result"
    }
   ],
   "source": [
    "list(clients_df.columns)"
   ]
  },
  {
   "cell_type": "code",
   "execution_count": null,
   "metadata": {},
   "outputs": [],
   "source": []
  },
  {
   "attachments": {},
   "cell_type": "markdown",
   "metadata": {},
   "source": [
    "## Data Normalization and Preparation"
   ]
  },
  {
   "attachments": {},
   "cell_type": "markdown",
   "metadata": {},
   "source": [
    "### Prepare Clients Dataset"
   ]
  },
  {
   "cell_type": "code",
   "execution_count": 2,
   "metadata": {},
   "outputs": [],
   "source": [
    "root_data = Path('../dataset/')\n",
    "clients_path = root_data / 'client_base.csv'\n",
    "\n",
    "client_id_column_name = 'client_id'\n",
    "\n",
    "columns_to_delete = [\n",
    "    'Unnamed: 0',\n",
    "    'Cluster', \n",
    "]"
   ]
  },
  {
   "cell_type": "code",
   "execution_count": 3,
   "metadata": {},
   "outputs": [],
   "source": [
    "clients_df = pd.read_csv(clients_path)\n",
    "# {c: all(clients_df[c] == 0.) for c in clients_df.columns}\n",
    "columns_to_delete += [c for c in clients_df.columns if all(clients_df[c] == 0.)]\n",
    "clients_df.drop(columns_to_delete, axis=1, inplace=True)\n",
    "clients_df.set_index(client_id_column_name, inplace=True)\n",
    "\n",
    "clients_description_df = clients_df.describe()\n",
    "clients_description_df.to_csv(root_data / 'clients_description.csv', index=True)\n",
    "\n",
    "clients_normalized_df = (clients_df-clients_df.mean())/clients_df.std()\n",
    "clients_normalized_df.to_csv(root_data / 'clients_normalized.csv', index=True)"
   ]
  },
  {
   "attachments": {},
   "cell_type": "markdown",
   "metadata": {},
   "source": [
    "### Prepare item-user-count Dataset"
   ]
  },
  {
   "cell_type": "code",
   "execution_count": 4,
   "metadata": {},
   "outputs": [],
   "source": [
    "root_data = Path('../dataset/')\n",
    "markers_path = root_data / 'data_markers.csv'\n",
    "\n",
    "item_id_column_name = 'ID_SKU'\n",
    "user_id_column_name = 'Telephone_new'"
   ]
  },
  {
   "cell_type": "code",
   "execution_count": 5,
   "metadata": {},
   "outputs": [
    {
     "name": "stdout",
     "output_type": "stream",
     "text": [
      "len(markers_df) = 1247887\n"
     ]
    }
   ],
   "source": [
    "markers_df = pd.read_csv(markers_path)\n",
    "markers_df['count'] = 1\n",
    "print(f'len(markers_df) = {len(markers_df)}')"
   ]
  },
  {
   "cell_type": "code",
   "execution_count": 6,
   "metadata": {},
   "outputs": [],
   "source": [
    "dataset = markers_df[[item_id_column_name, user_id_column_name, 'count']]\n",
    "dataset = dataset.groupby([user_id_column_name, item_id_column_name])['count'].sum().to_frame().reset_index()\n",
    "dataset.rename(columns={user_id_column_name: 'user', item_id_column_name: 'item'}, inplace=True)"
   ]
  },
  {
   "cell_type": "code",
   "execution_count": 7,
   "metadata": {},
   "outputs": [],
   "source": [
    "dataset.to_csv(root_data / 'dataset_user-item-count.csv', index=False)"
   ]
  },
  {
   "cell_type": "code",
   "execution_count": 8,
   "metadata": {},
   "outputs": [
    {
     "data": {
      "text/html": [
       "<div>\n",
       "<style scoped>\n",
       "    .dataframe tbody tr th:only-of-type {\n",
       "        vertical-align: middle;\n",
       "    }\n",
       "\n",
       "    .dataframe tbody tr th {\n",
       "        vertical-align: top;\n",
       "    }\n",
       "\n",
       "    .dataframe thead th {\n",
       "        text-align: right;\n",
       "    }\n",
       "</style>\n",
       "<table border=\"1\" class=\"dataframe\">\n",
       "  <thead>\n",
       "    <tr style=\"text-align: right;\">\n",
       "      <th></th>\n",
       "      <th>user</th>\n",
       "      <th>item</th>\n",
       "      <th>count</th>\n",
       "    </tr>\n",
       "  </thead>\n",
       "  <tbody>\n",
       "    <tr>\n",
       "      <th>0</th>\n",
       "      <td>0</td>\n",
       "      <td>ID000s000310553</td>\n",
       "      <td>1</td>\n",
       "    </tr>\n",
       "    <tr>\n",
       "      <th>1</th>\n",
       "      <td>0</td>\n",
       "      <td>ID000s000545856</td>\n",
       "      <td>1</td>\n",
       "    </tr>\n",
       "    <tr>\n",
       "      <th>2</th>\n",
       "      <td>0</td>\n",
       "      <td>ID000sm-0076250</td>\n",
       "      <td>1</td>\n",
       "    </tr>\n",
       "    <tr>\n",
       "      <th>3</th>\n",
       "      <td>0</td>\n",
       "      <td>ID000sm-0150957</td>\n",
       "      <td>1</td>\n",
       "    </tr>\n",
       "    <tr>\n",
       "      <th>4</th>\n",
       "      <td>0</td>\n",
       "      <td>ID000sm-0474856</td>\n",
       "      <td>1</td>\n",
       "    </tr>\n",
       "    <tr>\n",
       "      <th>...</th>\n",
       "      <td>...</td>\n",
       "      <td>...</td>\n",
       "      <td>...</td>\n",
       "    </tr>\n",
       "    <tr>\n",
       "      <th>1098252</th>\n",
       "      <td>57565352-56495256545597</td>\n",
       "      <td>IDL00047888048</td>\n",
       "      <td>1</td>\n",
       "    </tr>\n",
       "    <tr>\n",
       "      <th>1098253</th>\n",
       "      <td>57575054-51535748525390</td>\n",
       "      <td>ID9010000690351</td>\n",
       "      <td>2</td>\n",
       "    </tr>\n",
       "    <tr>\n",
       "      <th>1098254</th>\n",
       "      <td>57575757-48485048565195</td>\n",
       "      <td>ID000so-4602149</td>\n",
       "      <td>1</td>\n",
       "    </tr>\n",
       "    <tr>\n",
       "      <th>1098255</th>\n",
       "      <td>71764848-485149524951G3</td>\n",
       "      <td>IDL00031412755</td>\n",
       "      <td>1</td>\n",
       "    </tr>\n",
       "    <tr>\n",
       "      <th>1098256</th>\n",
       "      <td>71764848-485149524951G3</td>\n",
       "      <td>IDL00031413351</td>\n",
       "      <td>1</td>\n",
       "    </tr>\n",
       "  </tbody>\n",
       "</table>\n",
       "<p>1098257 rows × 3 columns</p>\n",
       "</div>"
      ],
      "text/plain": [
       "                            user             item  count\n",
       "0                              0  ID000s000310553      1\n",
       "1                              0  ID000s000545856      1\n",
       "2                              0  ID000sm-0076250      1\n",
       "3                              0  ID000sm-0150957      1\n",
       "4                              0  ID000sm-0474856      1\n",
       "...                          ...              ...    ...\n",
       "1098252  57565352-56495256545597   IDL00047888048      1\n",
       "1098253  57575054-51535748525390  ID9010000690351      2\n",
       "1098254  57575757-48485048565195  ID000so-4602149      1\n",
       "1098255  71764848-485149524951G3   IDL00031412755      1\n",
       "1098256  71764848-485149524951G3   IDL00031413351      1\n",
       "\n",
       "[1098257 rows x 3 columns]"
      ]
     },
     "execution_count": 8,
     "metadata": {},
     "output_type": "execute_result"
    }
   ],
   "source": [
    "dataset"
   ]
  },
  {
   "cell_type": "code",
   "execution_count": 9,
   "metadata": {},
   "outputs": [],
   "source": [
    "c = 'item' # 'user', 'item'\n",
    "for c in ['user', 'item']:\n",
    "    index_item_df = dataset[[c]].groupby(c).sum()\n",
    "    index_item_df.reset_index(inplace=True)\n",
    "    index_item_df.to_csv(root_data / f'index_{c}.csv', index=True)"
   ]
  },
  {
   "cell_type": "code",
   "execution_count": 10,
   "metadata": {},
   "outputs": [],
   "source": [
    "root_dir = Path('../dataset/')\n",
    "\n",
    "index_item_df = pd.read_csv(root_dir / 'index_item.csv', index_col=0)\n",
    "index_user_df = pd.read_csv(root_dir / 'index_user.csv', index_col=0)\n",
    "\n",
    "index_item_df['index'] = np.arange(len(index_item_df))\n",
    "index_user_df['index'] = np.arange(len(index_user_df))\n",
    "\n",
    "index_item_df.set_index('item', inplace=True)\n",
    "item2index = index_item_df.to_dict()\n",
    "\n",
    "index_user_df.set_index('user', inplace=True)\n",
    "user2index = index_user_df.to_dict()\n"
   ]
  },
  {
   "cell_type": "code",
   "execution_count": 11,
   "metadata": {},
   "outputs": [],
   "source": [
    "dataset_indexed = deepcopy(dataset)"
   ]
  },
  {
   "cell_type": "code",
   "execution_count": 12,
   "metadata": {},
   "outputs": [],
   "source": [
    "dataset_indexed['user'] = dataset['user'].map(user2index['index'])\n",
    "dataset_indexed['item'] = dataset['item'].map(item2index['index'])"
   ]
  },
  {
   "cell_type": "code",
   "execution_count": 13,
   "metadata": {},
   "outputs": [],
   "source": [
    "dataset_indexed.to_csv(root_dir / 'dataset_indexed.csv', index=False)"
   ]
  },
  {
   "cell_type": "code",
   "execution_count": 14,
   "metadata": {},
   "outputs": [
    {
     "data": {
      "text/html": [
       "<div>\n",
       "<style scoped>\n",
       "    .dataframe tbody tr th:only-of-type {\n",
       "        vertical-align: middle;\n",
       "    }\n",
       "\n",
       "    .dataframe tbody tr th {\n",
       "        vertical-align: top;\n",
       "    }\n",
       "\n",
       "    .dataframe thead th {\n",
       "        text-align: right;\n",
       "    }\n",
       "</style>\n",
       "<table border=\"1\" class=\"dataframe\">\n",
       "  <thead>\n",
       "    <tr style=\"text-align: right;\">\n",
       "      <th></th>\n",
       "      <th>user</th>\n",
       "      <th>item</th>\n",
       "      <th>count</th>\n",
       "    </tr>\n",
       "  </thead>\n",
       "  <tbody>\n",
       "    <tr>\n",
       "      <th>0</th>\n",
       "      <td>0</td>\n",
       "      <td>0</td>\n",
       "      <td>1</td>\n",
       "    </tr>\n",
       "    <tr>\n",
       "      <th>1</th>\n",
       "      <td>0</td>\n",
       "      <td>10</td>\n",
       "      <td>1</td>\n",
       "    </tr>\n",
       "    <tr>\n",
       "      <th>2</th>\n",
       "      <td>0</td>\n",
       "      <td>19</td>\n",
       "      <td>1</td>\n",
       "    </tr>\n",
       "    <tr>\n",
       "      <th>3</th>\n",
       "      <td>0</td>\n",
       "      <td>22</td>\n",
       "      <td>1</td>\n",
       "    </tr>\n",
       "    <tr>\n",
       "      <th>4</th>\n",
       "      <td>0</td>\n",
       "      <td>45</td>\n",
       "      <td>1</td>\n",
       "    </tr>\n",
       "  </tbody>\n",
       "</table>\n",
       "</div>"
      ],
      "text/plain": [
       "   user  item  count\n",
       "0     0     0      1\n",
       "1     0    10      1\n",
       "2     0    19      1\n",
       "3     0    22      1\n",
       "4     0    45      1"
      ]
     },
     "execution_count": 14,
     "metadata": {},
     "output_type": "execute_result"
    }
   ],
   "source": [
    "dataset_indexed.head(5)"
   ]
  },
  {
   "attachments": {},
   "cell_type": "markdown",
   "metadata": {},
   "source": [
    "### Train/Test split"
   ]
  },
  {
   "cell_type": "code",
   "execution_count": 15,
   "metadata": {},
   "outputs": [],
   "source": [
    "def split_train_test(dataset: pd.DataFrame, test_size: float = 0.05, min_items_for_test: int = 10, random_state: int = 42) -> Tuple[pd.DataFrame, pd.DataFrame]:\n",
    "    dataset_ = deepcopy(dataset)\n",
    "    dataset_['_count_'] = 1\n",
    "    names = dataset_[['user', '_count_']].groupby('user').sum()\n",
    "    names.reset_index(inplace=True)\n",
    "    names = names[names['_count_'] >= min_items_for_test]\n",
    "    users_train, users_test = train_test_split(names['user'].values, random_state=random_state, test_size=test_size)\n",
    "    \n",
    "    test_data = pd.DataFrame(columns=dataset_.columns[:-1])\n",
    "    for user_idx in users_test:\n",
    "        idxs_with_user = dataset_[dataset_['user'] == user_idx].index.tolist()\n",
    "        _, hide_idxs = train_test_split(idxs_with_user, random_state=random_state, test_size=test_size)\n",
    "        dataset_['count'][hide_idxs] = 0\n",
    "        test_data = pd.concat([test_data, deepcopy(dataset.loc[hide_idxs])])\n",
    "\n",
    "    dataset_.drop('_count_', axis='columns', inplace=True)\n",
    "    return dataset_, test_data\n",
    "\n",
    "\n",
    "# train_dataset, test_dataset = train_test_split(dataset_indexed, random_state=42, test_size=0.1)\n",
    "train_dataset, test_dataset = split_train_test(dataset_indexed)"
   ]
  },
  {
   "cell_type": "code",
   "execution_count": 16,
   "metadata": {},
   "outputs": [],
   "source": [
    "test_dataset.to_csv(root_dir / 'dataset_indexed_test.csv', index=False)\n",
    "train_dataset.to_csv(root_dir / 'dataset_indexed_train.csv', index=False)"
   ]
  },
  {
   "cell_type": "code",
   "execution_count": null,
   "metadata": {},
   "outputs": [],
   "source": []
  }
 ],
 "metadata": {
  "kernelspec": {
   "display_name": ".venv",
   "language": "python",
   "name": "python3"
  },
  "language_info": {
   "codemirror_mode": {
    "name": "ipython",
    "version": 3
   },
   "file_extension": ".py",
   "mimetype": "text/x-python",
   "name": "python",
   "nbconvert_exporter": "python",
   "pygments_lexer": "ipython3",
   "version": "3.8.10"
  },
  "orig_nbformat": 4
 },
 "nbformat": 4,
 "nbformat_minor": 2
}
