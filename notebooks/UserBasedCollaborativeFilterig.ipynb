{
 "cells": [
  {
   "attachments": {},
   "cell_type": "markdown",
   "metadata": {},
   "source": [
    "### Imports"
   ]
  },
  {
   "cell_type": "code",
   "execution_count": 1,
   "metadata": {},
   "outputs": [],
   "source": [
    "%load_ext autoreload\n",
    "%autoreload 2"
   ]
  },
  {
   "cell_type": "code",
   "execution_count": 2,
   "metadata": {},
   "outputs": [],
   "source": [
    "import pandas as pd\n",
    "# from surprise import Dataset, Reader\n",
    "from pathlib import Path\n",
    "from sklearn.model_selection import train_test_split\n",
    "# from surprise import KNNBasic\n",
    "from scipy.sparse import csr_matrix\n",
    "from sklearn.neighbors import KNeighborsClassifier\n",
    "import scipy\n",
    "from tqdm import tqdm \n",
    "import numpy as np\n",
    "from scipy.spatial.distance import cdist\n",
    "from sklearn.metrics.pairwise import pairwise_distances\n",
    "import faiss\n",
    "import sys\n",
    "sys.path.append('..')\n",
    "\n",
    "from src.data.utils import create_user_item_matrix\n",
    "from src.similarity import cosine_similarity\n",
    "from src.recsys import UserBasedCF"
   ]
  },
  {
   "cell_type": "code",
   "execution_count": 3,
   "metadata": {},
   "outputs": [],
   "source": [
    "data_root = Path('../dataset/')"
   ]
  },
  {
   "cell_type": "code",
   "execution_count": 4,
   "metadata": {},
   "outputs": [
    {
     "name": "stdout",
     "output_type": "stream",
     "text": [
      "n_users = 199179\n",
      "n_items = 119761\n"
     ]
    },
    {
     "name": "stderr",
     "output_type": "stream",
     "text": [
      "filling user-item matrix: 100%|██████████| 1098257/1098257 [00:40<00:00, 27227.03it/s]\n"
     ]
    }
   ],
   "source": [
    "model = UserBasedCF(\n",
    "    fname_data=data_root / 'dataset_indexed_train.csv', \n",
    "    batch_size=300, \n",
    "    topk_items=100, \n",
    "    topk_users=100\n",
    ")"
   ]
  },
  {
   "cell_type": "code",
   "execution_count": 5,
   "metadata": {},
   "outputs": [
    {
     "name": "stdout",
     "output_type": "stream",
     "text": [
      "n_users query = 1431\n"
     ]
    },
    {
     "name": "stderr",
     "output_type": "stream",
     "text": [
      "  7%|▋         | 45/664 [52:13<11:58:22, 69.63s/it]\n"
     ]
    },
    {
     "ename": "KeyboardInterrupt",
     "evalue": "",
     "output_type": "error",
     "traceback": [
      "\u001b[1;31m---------------------------------------------------------------------------\u001b[0m",
      "\u001b[1;31mKeyboardInterrupt\u001b[0m                         Traceback (most recent call last)",
      "Cell \u001b[1;32mIn[5], line 1\u001b[0m\n\u001b[1;32m----> 1\u001b[0m result \u001b[39m=\u001b[39m model\u001b[39m.\u001b[39;49mpredict(data_root \u001b[39m/\u001b[39;49m \u001b[39m'\u001b[39;49m\u001b[39mdataset_indexed_test.csv\u001b[39;49m\u001b[39m'\u001b[39;49m)\n",
      "File \u001b[1;32mc:\\Users\\iwong\\Documents\\FreeLance\\RecSys\\notebooks\\..\\src\\recsys.py:40\u001b[0m, in \u001b[0;36mpredict\u001b[1;34m(self, fname, topk_u, topk_i, weighted)\u001b[0m\n\u001b[0;32m     37\u001b[0m fname \u001b[39m=\u001b[39m Path(fname)\n\u001b[0;32m     39\u001b[0m topk_u \u001b[39m=\u001b[39m topk_u \u001b[39mif\u001b[39;00m topk_u \u001b[39mis\u001b[39;00m \u001b[39mnot\u001b[39;00m \u001b[39mNone\u001b[39;00m \u001b[39melse\u001b[39;00m \u001b[39mself\u001b[39m\u001b[39m.\u001b[39mtopk_u\n\u001b[1;32m---> 40\u001b[0m topk_i \u001b[39m=\u001b[39m topk_i \u001b[39mif\u001b[39;00m topk_i \u001b[39mis\u001b[39;00m \u001b[39mnot\u001b[39;00m \u001b[39mNone\u001b[39;00m \u001b[39melse\u001b[39;00m \u001b[39mself\u001b[39m\u001b[39m.\u001b[39mtopk_i\n\u001b[0;32m     42\u001b[0m dataset_query_df \u001b[39m=\u001b[39m pd\u001b[39m.\u001b[39mread_csv(fname)\n\u001b[0;32m     43\u001b[0m \u001b[39m# user_names_df = dataset_query_df[['user']].groupby('user').sum()\u001b[39;00m\n\u001b[0;32m     44\u001b[0m \u001b[39m# user_names_df.reset_index(inplace=True)\u001b[39;00m\n",
      "File \u001b[1;32mc:\\Users\\iwong\\Documents\\FreeLance\\RecSys\\notebooks\\..\\src\\similarity.py:21\u001b[0m, in \u001b[0;36mcosine_similarity\u001b[1;34m(a, b, batch_size)\u001b[0m\n\u001b[0;32m     19\u001b[0m \u001b[39mfor\u001b[39;00m j \u001b[39min\u001b[39;00m \u001b[39mrange\u001b[39m(\u001b[39m0\u001b[39m, nb, batch_size):\n\u001b[0;32m     20\u001b[0m     a_arr \u001b[39m=\u001b[39m a[i : i \u001b[39m+\u001b[39m batch_size]\u001b[39m.\u001b[39mtoarray()\n\u001b[1;32m---> 21\u001b[0m     b_arr \u001b[39m=\u001b[39m b[j : j \u001b[39m+\u001b[39m batch_size]\u001b[39m.\u001b[39mtoarray()\n\u001b[0;32m     22\u001b[0m     dist \u001b[39m=\u001b[39m \u001b[39m-\u001b[39mcdist(a_arr, b_arr, \u001b[39m\"\u001b[39m\u001b[39mcosine\u001b[39m\u001b[39m\"\u001b[39m) \u001b[39m+\u001b[39m \u001b[39m1\u001b[39m\n\u001b[0;32m     23\u001b[0m     \u001b[39m# print(f'{dist.shape}, {res[i, i+batch_size].shape}')\u001b[39;00m\n",
      "File \u001b[1;32mc:\\Users\\iwong\\Documents\\FreeLance\\RecSys\\.venv\\lib\\site-packages\\scipy\\spatial\\distance.py:2939\u001b[0m, in \u001b[0;36mcdist\u001b[1;34m(XA, XB, metric, out, **kwargs)\u001b[0m\n\u001b[0;32m   2937\u001b[0m \u001b[39mif\u001b[39;00m metric_info \u001b[39mis\u001b[39;00m \u001b[39mnot\u001b[39;00m \u001b[39mNone\u001b[39;00m:\n\u001b[0;32m   2938\u001b[0m     cdist_fn \u001b[39m=\u001b[39m metric_info\u001b[39m.\u001b[39mcdist_func\n\u001b[1;32m-> 2939\u001b[0m     \u001b[39mreturn\u001b[39;00m cdist_fn(XA, XB, out\u001b[39m=\u001b[39;49mout, \u001b[39m*\u001b[39;49m\u001b[39m*\u001b[39;49mkwargs)\n\u001b[0;32m   2940\u001b[0m \u001b[39melif\u001b[39;00m mstr\u001b[39m.\u001b[39mstartswith(\u001b[39m\"\u001b[39m\u001b[39mtest_\u001b[39m\u001b[39m\"\u001b[39m):\n\u001b[0;32m   2941\u001b[0m     metric_info \u001b[39m=\u001b[39m _TEST_METRICS\u001b[39m.\u001b[39mget(mstr, \u001b[39mNone\u001b[39;00m)\n",
      "File \u001b[1;32mc:\\Users\\iwong\\Documents\\FreeLance\\RecSys\\.venv\\lib\\site-packages\\scipy\\spatial\\distance.py:1667\u001b[0m, in \u001b[0;36mCDistMetricWrapper.__call__\u001b[1;34m(self, XA, XB, out, **kwargs)\u001b[0m\n\u001b[0;32m   1665\u001b[0m \u001b[39m# get cdist wrapper\u001b[39;00m\n\u001b[0;32m   1666\u001b[0m cdist_fn \u001b[39m=\u001b[39m \u001b[39mgetattr\u001b[39m(_distance_wrap, \u001b[39mf\u001b[39m\u001b[39m'\u001b[39m\u001b[39mcdist_\u001b[39m\u001b[39m{\u001b[39;00mmetric_name\u001b[39m}\u001b[39;00m\u001b[39m_\u001b[39m\u001b[39m{\u001b[39;00mtyp\u001b[39m}\u001b[39;00m\u001b[39m_wrap\u001b[39m\u001b[39m'\u001b[39m)\n\u001b[1;32m-> 1667\u001b[0m cdist_fn(XA, XB, dm, \u001b[39m*\u001b[39;49m\u001b[39m*\u001b[39;49mkwargs)\n\u001b[0;32m   1668\u001b[0m \u001b[39mreturn\u001b[39;00m dm\n",
      "\u001b[1;31mKeyboardInterrupt\u001b[0m: "
     ]
    }
   ],
   "source": [
    "result = model.predict(data_root / 'dataset_indexed_test.csv')"
   ]
  },
  {
   "cell_type": "code",
   "execution_count": null,
   "metadata": {},
   "outputs": [],
   "source": [
    "from src.test_utils import topk_recall"
   ]
  },
  {
   "cell_type": "code",
   "execution_count": null,
   "metadata": {},
   "outputs": [
    {
     "data": {
      "text/plain": [
       "(0.0, array([0., 0., 0., 0.]))"
      ]
     },
     "execution_count": 123,
     "metadata": {},
     "output_type": "execute_result"
    }
   ],
   "source": [
    "df_gt = pd.read_csv(data_root / 'dataset_indexed_test.csv')\n",
    "df_rec = pd.read_csv(data_root / 'rec_dataset_indexed_test.csv')\n",
    "\n",
    "topk_recall(df_rec, df_gt)"
   ]
  }
 ],
 "metadata": {
  "kernelspec": {
   "display_name": ".venv",
   "language": "python",
   "name": "python3"
  },
  "language_info": {
   "codemirror_mode": {
    "name": "ipython",
    "version": 3
   },
   "file_extension": ".py",
   "mimetype": "text/x-python",
   "name": "python",
   "nbconvert_exporter": "python",
   "pygments_lexer": "ipython3",
   "version": "3.8.10"
  },
  "orig_nbformat": 4
 },
 "nbformat": 4,
 "nbformat_minor": 2
}
